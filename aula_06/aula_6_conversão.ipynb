{
 "cells": [
  {
   "cell_type": "code",
   "execution_count": 1,
   "id": "3790e235",
   "metadata": {},
   "outputs": [],
   "source": [
    "x = 5\n",
    "y = 5.7\n",
    "z = '67'\n",
    "w = '23.6'"
   ]
  },
  {
   "cell_type": "code",
   "execution_count": 3,
   "id": "d6a68137",
   "metadata": {},
   "outputs": [
    {
     "name": "stdout",
     "output_type": "stream",
     "text": [
      "5\n"
     ]
    }
   ],
   "source": [
    "inteiro = int(y)\n",
    "print(inteiro)"
   ]
  },
  {
   "cell_type": "code",
   "execution_count": 4,
   "id": "6dcbe2d9",
   "metadata": {},
   "outputs": [
    {
     "name": "stdout",
     "output_type": "stream",
     "text": [
      "5.0\n"
     ]
    }
   ],
   "source": [
    "fracao = float(x)\n",
    "print(fracao)"
   ]
  },
  {
   "cell_type": "code",
   "execution_count": 5,
   "id": "e1a72dfc",
   "metadata": {},
   "outputs": [
    {
     "data": {
      "text/plain": [
       "'67'"
      ]
     },
     "execution_count": 5,
     "metadata": {},
     "output_type": "execute_result"
    }
   ],
   "source": [
    "inteiro = int(z)\n",
    "z"
   ]
  },
  {
   "cell_type": "code",
   "execution_count": 6,
   "id": "8ed3ada9",
   "metadata": {},
   "outputs": [
    {
     "data": {
      "text/plain": [
       "67"
      ]
     },
     "execution_count": 6,
     "metadata": {},
     "output_type": "execute_result"
    }
   ],
   "source": [
    "inteiro"
   ]
  },
  {
   "cell_type": "code",
   "execution_count": 7,
   "id": "21b69826",
   "metadata": {},
   "outputs": [
    {
     "name": "stdout",
     "output_type": "stream",
     "text": [
      "6723.6\n"
     ]
    }
   ],
   "source": [
    "soma = z + w\n",
    "print(soma)"
   ]
  },
  {
   "cell_type": "code",
   "execution_count": 8,
   "id": "f8412da3",
   "metadata": {},
   "outputs": [
    {
     "data": {
      "text/plain": [
       "90.6"
      ]
     },
     "execution_count": 8,
     "metadata": {},
     "output_type": "execute_result"
    }
   ],
   "source": [
    "soma = int(z) + float(w)\n",
    "soma"
   ]
  },
  {
   "cell_type": "code",
   "execution_count": 9,
   "id": "85b26ab8",
   "metadata": {},
   "outputs": [
    {
     "name": "stdout",
     "output_type": "stream",
     "text": [
      "90.6\n",
      "<class 'str'>\n"
     ]
    }
   ],
   "source": [
    "frase = str(soma)\n",
    "print(frase)\n",
    "print(type(frase))"
   ]
  },
  {
   "cell_type": "code",
   "execution_count": 10,
   "id": "494f658c",
   "metadata": {},
   "outputs": [
    {
     "ename": "NameError",
     "evalue": "name 'prit' is not defined",
     "output_type": "error",
     "traceback": [
      "\u001b[1;31m---------------------------------------------------------------------------\u001b[0m",
      "\u001b[1;31mNameError\u001b[0m                                 Traceback (most recent call last)",
      "Cell \u001b[1;32mIn[10], line 1\u001b[0m\n\u001b[1;32m----> 1\u001b[0m prit(frase \u001b[38;5;241m+\u001b[39m \u001b[38;5;241m5\u001b[39m)\n",
      "\u001b[1;31mNameError\u001b[0m: name 'prit' is not defined"
     ]
    }
   ],
   "source": [
    "prit(frase + 5)"
   ]
  },
  {
   "cell_type": "code",
   "execution_count": null,
   "id": "aaa04d4c",
   "metadata": {},
   "outputs": [],
   "source": []
  }
 ],
 "metadata": {
  "kernelspec": {
   "display_name": "Python 3 (ipykernel)",
   "language": "python",
   "name": "python3"
  },
  "language_info": {
   "codemirror_mode": {
    "name": "ipython",
    "version": 3
   },
   "file_extension": ".py",
   "mimetype": "text/x-python",
   "name": "python",
   "nbconvert_exporter": "python",
   "pygments_lexer": "ipython3",
   "version": "3.11.5"
  }
 },
 "nbformat": 4,
 "nbformat_minor": 5
}
