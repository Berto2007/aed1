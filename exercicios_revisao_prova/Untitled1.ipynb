{
 "cells": [
  {
   "cell_type": "code",
   "execution_count": 7,
   "id": "f87d639f-c3d2-4093-b089-5c96d253f370",
   "metadata": {},
   "outputs": [
    {
     "name": "stdout",
     "output_type": "stream",
     "text": [
      "O valor da média de consumo é 51.37\n"
     ]
    }
   ],
   "source": [
    "consumo_diario = [50,45,55,60,48,52,47,49,53,51,50,46,54,61,49,53,48,50,52,47,56,50,55,60,48,52,47,49,53,51]\n",
    "soma = 0\n",
    "for valor in consumo_diario:\n",
    "    soma = soma + valor\n",
    "media = soma/30\n",
    "print(f\"O valor da média de consumo é {media:.2f}\")"
   ]
  },
  {
   "cell_type": "code",
   "execution_count": 8,
   "id": "3ae8af3c-a0e4-49aa-a644-d3c4d72ce5d6",
   "metadata": {},
   "outputs": [
    {
     "name": "stdout",
     "output_type": "stream",
     "text": [
      "O valor da média é 51.37\n"
     ]
    }
   ],
   "source": [
    "consumo_diario = [50,45,55,60,48,52,47,49,53,51,50,46,54,61,49,53,48,50,52,47,56,50,55,60,48,52,47,49,53,51]\n",
    "soma = sum(consumo_diario)\n",
    "media = soma/len(consumo_diario)\n",
    "\n",
    "print(f\"O valor da média é {media:.2f}\")"
   ]
  },
  {
   "cell_type": "code",
   "execution_count": 9,
   "id": "2f1ff748-ec53-48d1-b866-cb0d5eceaad1",
   "metadata": {},
   "outputs": [],
   "source": [
    "import numpy as np\n",
    "\n",
    "\n",
    "        "
   ]
  },
  {
   "cell_type": "code",
   "execution_count": 11,
   "id": "53576c59-027a-4dc3-b6f0-39fac4f8b798",
   "metadata": {},
   "outputs": [
    {
     "name": "stdout",
     "output_type": "stream",
     "text": [
      "41\n"
     ]
    }
   ],
   "source": [
    "produtividade = [ [5, 7, 6, 8, 7],\n",
    "                 [6, 5, 6, 7, 6], \n",
    "                 [8, 9, 7, 8, 9],\n",
    "                 [4, 6, 5, 5, 6],\n",
    "                 [7, 8, 7, 8, 7] ]\n",
    "\n",
    "fun1 = sum(produtividade[0])\n",
    "fun2 = sum(produtividade[1])\n",
    "fun3 = sum(produtividade[2])\n",
    "fun4 = sum(produtividade[3])\n",
    "fun5 = sum(produtividade[4])\n",
    "\n",
    "fun = [0, fun1, fun2, fun3, fun4, fun5]\n",
    "\n",
    "maior_prod = max(fun)\n",
    "\n",
    "print(maior_prod)\n"
   ]
  },
  {
   "cell_type": "code",
   "execution_count": 14,
   "id": "328e60d9-f39b-488d-8419-b87ce6b173a3",
   "metadata": {},
   "outputs": [],
   "source": [
    "produtividade = [ [5, 7, 6, 8, 7],\n",
    "                 [6, 5, 6, 7, 6], \n",
    "                 [8, 9, 7, 8, 9],\n",
    "                 [4, 6, 5, 5, 6],\n",
    "                 [7, 8, 7, 8, 7] ]\n",
    "func[0,0,0,0,0]\n",
    "\n",
    "f = 0\n",
    "for tarefas in produtividade:\n",
    "    soma = 0\n",
    "    for tarefa in tarefas:\n",
    "        soma += tarefa\n",
    "    func[f] = soma\n",
    "    f += 1\n",
    "maior = max(func)\n",
    "funcionario func.index(maior)+1\n",
    "print(f\"O {funcionario} \")"
   ]
  },
  {
   "cell_type": "code",
   "execution_count": 15,
   "id": "ce0f2b31-47de-4a84-932b-0f5377bd971b",
   "metadata": {},
   "outputs": [
    {
     "name": "stdin",
     "output_type": "stream",
     "text": [
      "Digite o Nome que deseja verificar:  Bruno\n"
     ]
    }
   ],
   "source": [
    "participantes_evento = ['Ana', 'Bruno', 'Carlos', 'Diana', 'Eduardo']\n",
    "nome_participantes = input(\"Digite o Nome que deseja verificar: \")\n",
    "\n"
   ]
  },
  {
   "cell_type": "code",
   "execution_count": 16,
   "id": "e9e1608b-89d0-4e5e-8e3c-858227e8a7ab",
   "metadata": {},
   "outputs": [],
   "source": [
    "def verificar_participante(participantes, nome):\n",
    "    if nome in participantes:\n",
    "        return True\n",
    "    else:\n",
    "        return False\n"
   ]
  },
  {
   "cell_type": "code",
   "execution_count": 17,
   "id": "f6c84178-8fcd-48ee-bad3-b2a17d31a8f9",
   "metadata": {},
   "outputs": [
    {
     "ename": "NameError",
     "evalue": "name 'nome_participantes' is not defined",
     "output_type": "error",
     "traceback": [
      "\u001b[1;31m---------------------------------------------------------------------------\u001b[0m",
      "\u001b[1;31mNameError\u001b[0m                                 Traceback (most recent call last)",
      "Cell \u001b[1;32mIn[17], line 2\u001b[0m\n\u001b[0;32m      1\u001b[0m \u001b[38;5;66;03m#teste da funcao\u001b[39;00m\n\u001b[1;32m----> 2\u001b[0m \u001b[38;5;28;01mif\u001b[39;00m verificar_participante(participantes_evento, nome_participantes):\n\u001b[0;32m      3\u001b[0m     \u001b[38;5;28;01mTrue\u001b[39;00m\n\u001b[0;32m      4\u001b[0m     \u001b[38;5;28mprint\u001b[39m(\u001b[38;5;124mf\u001b[39m\u001b[38;5;124m\"\u001b[39m\u001b[38;5;132;01m{\u001b[39;00mnome_participante\u001b[38;5;132;01m}\u001b[39;00m\u001b[38;5;124m está na Lista de convidados!\u001b[39m\u001b[38;5;124m\"\u001b[39m)\n",
      "\u001b[1;31mNameError\u001b[0m: name 'nome_participantes' is not defined"
     ]
    }
   ],
   "source": [
    "#teste da funcao\n",
    "if verificar_participante(participantes_evento, nome_participantes):\n",
    "    True\n",
    "    print(f\"{nome_participante} está na Lista de convidados!\")\n",
    "else:\n",
    "    print(f\"{nome_participante} não está na Lista de convidados!\")"
   ]
  },
  {
   "cell_type": "code",
   "execution_count": null,
   "id": "4e8b807d-cec0-4d07-947f-1c5c3bf561f9",
   "metadata": {},
   "outputs": [],
   "source": []
  },
  {
   "cell_type": "code",
   "execution_count": null,
   "id": "4c759012-98c8-4eb5-bfed-571483b04aab",
   "metadata": {},
   "outputs": [],
   "source": []
  }
 ],
 "metadata": {
  "kernelspec": {
   "display_name": "Python 3 (ipykernel)",
   "language": "python",
   "name": "python3"
  },
  "language_info": {
   "codemirror_mode": {
    "name": "ipython",
    "version": 3
   },
   "file_extension": ".py",
   "mimetype": "text/x-python",
   "name": "python",
   "nbconvert_exporter": "python",
   "pygments_lexer": "ipython3",
   "version": "3.11.7"
  }
 },
 "nbformat": 4,
 "nbformat_minor": 5
}
